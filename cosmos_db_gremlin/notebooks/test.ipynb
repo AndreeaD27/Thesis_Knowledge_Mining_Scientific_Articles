{
 "cells": [
  {
   "cell_type": "code",
   "execution_count": 4,
   "metadata": {},
   "outputs": [
    {
     "name": "stdout",
     "output_type": "stream",
     "text": [
      "[(0, 0, 0), (0, 0, 0), (0, 0, 0), (0, 0, 0), (0, 0, 0), (0, 0, 0), (0, 0, 0), (0, 0, 0), (0, 0, 0), (0, 0, 0)]\n"
     ]
    }
   ],
   "source": [
    "vertex_edge_vertex_list = [(0, 0, 0) for i in range(10)]\n",
    "\n",
    "print(vertex_edge_vertex_list)"
   ]
  },
  {
   "cell_type": "code",
   "execution_count": 7,
   "metadata": {},
   "outputs": [
    {
     "name": "stdout",
     "output_type": "stream",
     "text": [
      "True\n"
     ]
    }
   ],
   "source": [
    "nr = \"1\"\n",
    "\n",
    "print(nr.isdigit())"
   ]
  },
  {
   "cell_type": "code",
   "execution_count": 11,
   "metadata": {},
   "outputs": [
    {
     "name": "stdout",
     "output_type": "stream",
     "text": [
      "True\n",
      "False\n"
     ]
    }
   ],
   "source": [
    "import re\n",
    "\n",
    "print(bool(re.match(\"^\\d+?\\.\\d+?$\", '123.1')))\n",
    "\n",
    "\n",
    "\n",
    "print(bool(re.match(\"^\\d+$\", '123.21331')))"
   ]
  },
  {
   "cell_type": "code",
   "execution_count": 2,
   "metadata": {},
   "outputs": [
    {
     "name": "stdout",
     "output_type": "stream",
     "text": [
      "create_container.cs\n"
     ]
    }
   ],
   "source": [
    "import os \n",
    "import subprocess\n",
    "\n",
    "cwd = os.getcwd()\n",
    "\n",
    "for i in os.listdir(cwd):\n",
    "    if i.endswith('.cs'):\n",
    "        print(i)\n"
   ]
  },
  {
   "cell_type": "code",
   "execution_count": 7,
   "metadata": {},
   "outputs": [],
   "source": [
    "import os \n",
    "import subprocess\n",
    "import time\n",
    "\n",
    "# run powershell script\n",
    "var = \"TEST\"\n",
    "proc = subprocess.run(['powershell.exe', '-ExecutionPolicy', 'Unrestricted', '-File', 'powershell_scripts/create_dir.ps1','-dirname' , var])\n",
    "\n",
    "time.sleep(10)"
   ]
  },
  {
   "cell_type": "code",
   "execution_count": 6,
   "metadata": {},
   "outputs": [],
   "source": [
    "import os \n",
    "import subprocess\n",
    "\n",
    "# run powershell script\n",
    "proc = subprocess.Popen(['powershell.exe', '-ExecutionPolicy', 'Unrestricted', '-File', 'create_container.ps1','-graphName' , 'TEST2'])\n"
   ]
  },
  {
   "cell_type": "code",
   "execution_count": 3,
   "metadata": {},
   "outputs": [],
   "source": [
    "import os \n",
    "import subprocess\n",
    "\n",
    "# run powershell script\n",
    "proc = subprocess.Popen(['powershell.exe', '-ExecutionPolicy', 'Unrestricted', '-File', 'test.ps1','-graphName' , 'art4'])\n"
   ]
  }
 ],
 "metadata": {
  "kernelspec": {
   "display_name": "Python 3.10.0 ('thesis_venv': venv)",
   "language": "python",
   "name": "python3"
  },
  "language_info": {
   "codemirror_mode": {
    "name": "ipython",
    "version": 3
   },
   "file_extension": ".py",
   "mimetype": "text/x-python",
   "name": "python",
   "nbconvert_exporter": "python",
   "pygments_lexer": "ipython3",
   "version": "3.10.0"
  },
  "orig_nbformat": 4,
  "vscode": {
   "interpreter": {
    "hash": "b6d198b244d8786a4f88940d09e461ca96fd4225be9fc1c72cb9a34fa83e5d80"
   }
  }
 },
 "nbformat": 4,
 "nbformat_minor": 2
}
